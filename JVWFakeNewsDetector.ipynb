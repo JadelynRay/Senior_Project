{
 "cells": [
  {
   "cell_type": "code",
   "execution_count": 20,
   "id": "understood-updating",
   "metadata": {},
   "outputs": [
    {
     "output_type": "execute_result",
     "data": {
      "text/plain": [
       "   Unnamed: 0                                              title  \\\n",
       "0        8476                       You Can Smell Hillary’s Fear   \n",
       "1       10294  Watch The Exact Moment Paul Ryan Committed Pol...   \n",
       "2        3608        Kerry to go to Paris in gesture of sympathy   \n",
       "3       10142  Bernie supporters on Twitter erupt in anger ag...   \n",
       "4         875   The Battle of New York: Why This Primary Matters   \n",
       "5        6903                                        Tehran, USA   \n",
       "6        7341  Girl Horrified At What She Watches Boyfriend D...   \n",
       "7          95                  ‘Britain’s Schindler’ Dies at 106   \n",
       "8        4869  Fact check: Trump and Clinton at the 'commande...   \n",
       "9        2909  Iran reportedly makes new push for uranium con...   \n",
       "\n",
       "                                                text label  \n",
       "0  Daniel Greenfield, a Shillman Journalism Fello...  FAKE  \n",
       "1  Google Pinterest Digg Linkedin Reddit Stumbleu...  FAKE  \n",
       "2  U.S. Secretary of State John F. Kerry said Mon...  REAL  \n",
       "3  — Kaydee King (@KaydeeKing) November 9, 2016 T...  FAKE  \n",
       "4  It's primary day in New York and front-runners...  REAL  \n",
       "5    \\nI’m not an immigrant, but my grandparents ...  FAKE  \n",
       "6  Share This Baylee Luciani (left), Screenshot o...  FAKE  \n",
       "7  A Czech stockbroker who saved more than 650 Je...  REAL  \n",
       "8  Hillary Clinton and Donald Trump made some ina...  REAL  \n",
       "9  Iranian negotiators reportedly have made a las...  REAL  "
      ],
      "text/html": "<div>\n<style scoped>\n    .dataframe tbody tr th:only-of-type {\n        vertical-align: middle;\n    }\n\n    .dataframe tbody tr th {\n        vertical-align: top;\n    }\n\n    .dataframe thead th {\n        text-align: right;\n    }\n</style>\n<table border=\"1\" class=\"dataframe\">\n  <thead>\n    <tr style=\"text-align: right;\">\n      <th></th>\n      <th>Unnamed: 0</th>\n      <th>title</th>\n      <th>text</th>\n      <th>label</th>\n    </tr>\n  </thead>\n  <tbody>\n    <tr>\n      <th>0</th>\n      <td>8476</td>\n      <td>You Can Smell Hillary’s Fear</td>\n      <td>Daniel Greenfield, a Shillman Journalism Fello...</td>\n      <td>FAKE</td>\n    </tr>\n    <tr>\n      <th>1</th>\n      <td>10294</td>\n      <td>Watch The Exact Moment Paul Ryan Committed Pol...</td>\n      <td>Google Pinterest Digg Linkedin Reddit Stumbleu...</td>\n      <td>FAKE</td>\n    </tr>\n    <tr>\n      <th>2</th>\n      <td>3608</td>\n      <td>Kerry to go to Paris in gesture of sympathy</td>\n      <td>U.S. Secretary of State John F. Kerry said Mon...</td>\n      <td>REAL</td>\n    </tr>\n    <tr>\n      <th>3</th>\n      <td>10142</td>\n      <td>Bernie supporters on Twitter erupt in anger ag...</td>\n      <td>— Kaydee King (@KaydeeKing) November 9, 2016 T...</td>\n      <td>FAKE</td>\n    </tr>\n    <tr>\n      <th>4</th>\n      <td>875</td>\n      <td>The Battle of New York: Why This Primary Matters</td>\n      <td>It's primary day in New York and front-runners...</td>\n      <td>REAL</td>\n    </tr>\n    <tr>\n      <th>5</th>\n      <td>6903</td>\n      <td>Tehran, USA</td>\n      <td>\\nI’m not an immigrant, but my grandparents ...</td>\n      <td>FAKE</td>\n    </tr>\n    <tr>\n      <th>6</th>\n      <td>7341</td>\n      <td>Girl Horrified At What She Watches Boyfriend D...</td>\n      <td>Share This Baylee Luciani (left), Screenshot o...</td>\n      <td>FAKE</td>\n    </tr>\n    <tr>\n      <th>7</th>\n      <td>95</td>\n      <td>‘Britain’s Schindler’ Dies at 106</td>\n      <td>A Czech stockbroker who saved more than 650 Je...</td>\n      <td>REAL</td>\n    </tr>\n    <tr>\n      <th>8</th>\n      <td>4869</td>\n      <td>Fact check: Trump and Clinton at the 'commande...</td>\n      <td>Hillary Clinton and Donald Trump made some ina...</td>\n      <td>REAL</td>\n    </tr>\n    <tr>\n      <th>9</th>\n      <td>2909</td>\n      <td>Iran reportedly makes new push for uranium con...</td>\n      <td>Iranian negotiators reportedly have made a las...</td>\n      <td>REAL</td>\n    </tr>\n  </tbody>\n</table>\n</div>"
     },
     "metadata": {},
     "execution_count": 20
    }
   ],
   "source": [
    "# JVW Fake News Detector\n",
    "# \n",
    "# The \"JVW Fake News Detector is a system that tells our users if the article/site they're reading\n",
    "#is giving them real or fake news. Users of the detector will be able to insert the article/site of \n",
    "#interest into a simple and easy to use GUI. Once they click saying that this is the site they want looked at, \n",
    "#with help from API's and our large dataset of news entries, the detector will clearly display to our user if \n",
    "#the news is fake or fact.\n",
    "\n",
    "\n",
    "import numpy as np\n",
    "import pandas as pd\n",
    "import pickle\n",
    "import itertools\n",
    "import sklearn\n",
    "from sklearn.model_selection import train_test_split\n",
    "from sklearn.feature_extraction.text import CountVectorizer\n",
    "from sklearn.feature_extraction.text import TfidfVectorizer\n",
    "from sklearn.pipeline import Pipeline\n",
    "from sklearn.naive_bayes import MultinomialNB\n",
    "from sklearn.metrics import accuracy_score, confusion_matrix\n",
    "from sklearn.model_selection import cross_val_score\n",
    "\n",
    "\n",
    "\n",
    "\n",
    "# reads into out dataset\n",
    "#we are using a dataset created by Hassan Amin- kaggle.com\n",
    "#Source Dataset: https://www.kaggle.com/hassanamin/textdb3\n",
    "df = pd.read_csv('NewsDataset.csv',header=0)\n",
    "#conversion dictionary- to make our dataset binary\n",
    "#conversion_dict = {'FAKE': 1, 'REAL':0}\n",
    "#df['label'] = df['label'].replace(conversion_dict)\n",
    "#df.label = df.label.map(dict(REAL=0, FAKE=1))\n",
    "df.label.value_counts()\n",
    "\n",
    "# Show first 5 columns in our dataset\n",
    "df.shape\n",
    "df.head(10)"
   ]
  },
  {
   "cell_type": "code",
   "execution_count": 45,
   "id": "excess-identifier",
   "metadata": {},
   "outputs": [
    {
     "output_type": "execute_result",
     "data": {
      "text/plain": [
       "0    FAKE\n",
       "1    FAKE\n",
       "2    REAL\n",
       "3    FAKE\n",
       "4    REAL\n",
       "5    FAKE\n",
       "6    FAKE\n",
       "7    REAL\n",
       "8    REAL\n",
       "9    REAL\n",
       "Name: label, dtype: object"
      ]
     },
     "metadata": {},
     "execution_count": 45
    }
   ],
   "source": [
    "#testing to see if transformation into binary has worked/accurate\n",
    "#dataframe labels the text as FAKE(1) or REAL(0)\n",
    "labels=df.label\n",
    "labels.head(10)"
   ]
  },
  {
   "cell_type": "code",
   "execution_count": 50,
   "id": "palestinian-terminal",
   "metadata": {},
   "outputs": [
    {
     "output_type": "execute_result",
     "data": {
      "text/plain": [
       "(6335, 4)"
      ]
     },
     "metadata": {},
     "execution_count": 50
    }
   ],
   "source": [
    "#looking to see how many pieces of data are included in our training dataset as a whole\n",
    "df.shape"
   ]
  },
  {
   "cell_type": "code",
   "execution_count": 56,
   "id": "physical-truck",
   "metadata": {},
   "outputs": [
    {
     "output_type": "execute_result",
     "data": {
      "text/plain": [
       "Unnamed: 0    False\n",
       "title         False\n",
       "text          False\n",
       "label         False\n",
       "dtype: bool"
      ]
     },
     "metadata": {},
     "execution_count": 56
    }
   ],
   "source": [
    "#checking dataset for empty cells within the rows/columns\n",
    "df.isnull().any()"
   ]
  },
  {
   "cell_type": "code",
   "execution_count": 62,
   "id": "quantitative-custom",
   "metadata": {},
   "outputs": [],
   "source": [
    "#include title\n",
    "\n",
    "x = df['text']\n",
    "y = df['label']"
   ]
  },
  {
   "cell_type": "code",
   "execution_count": 35,
   "id": "pressed-rotation",
   "metadata": {},
   "outputs": [],
   "source": [
    "#training and testing our data/text\n",
    "#training our system to recognize the relationship between the text in the dataset\n",
    "\n",
    "#we have 6335 pieces of data, so the test size will take 35% of that and test and train it\n",
    "#if results aren't how we like we can make shuffle=TRUE. this will shuffle the data\n",
    "x_train,x_test,y_train,y_test = train_test_split(x,y,test_size=0.35, random_state=7)"
   ]
  },
  {
   "cell_type": "code",
   "execution_count": 63,
   "id": "diverse-sheffield",
   "metadata": {},
   "outputs": [],
   "source": [
    "#CountVectorizer is used to convert a collection of text documents to a vector of term/token counts\n",
    "#Vectorizer helps to reduce unstructured data from our training dataset. This helps our system by giving our\n",
    "#implemented algorithms a better chance of understanding what is actually included in the text\n",
    "countVector = CountVectorizer(stop_words='english')"
   ]
  },
  {
   "cell_type": "code",
   "execution_count": 65,
   "id": "furnished-conservative",
   "metadata": {},
   "outputs": [],
   "source": [
    "countTrain = countVector.fit_transform(x_train)"
   ]
  },
  {
   "cell_type": "code",
   "execution_count": 66,
   "id": "personal-comedy",
   "metadata": {},
   "outputs": [
    {
     "output_type": "stream",
     "name": "stdout",
     "text": [
      "CountVectorizer(stop_words='english')\n"
     ]
    }
   ],
   "source": [
    "print(countVector)"
   ]
  },
  {
   "cell_type": "code",
   "execution_count": 48,
   "id": "comprehensive-network",
   "metadata": {},
   "outputs": [
    {
     "output_type": "stream",
     "name": "stdout",
     "text": [
      "  (0, 54372)\t1\n  (0, 24185)\t1\n  (0, 38819)\t1\n  (0, 44311)\t1\n  (0, 27200)\t1\n  (0, 16294)\t1\n  (0, 43343)\t1\n  (0, 13600)\t1\n  (0, 12468)\t1\n  (0, 18947)\t1\n  (0, 8110)\t1\n  (0, 26297)\t1\n  (0, 14772)\t1\n  (0, 26768)\t1\n  (0, 10797)\t2\n  (0, 13430)\t1\n  (0, 3588)\t1\n  (0, 34070)\t1\n  (0, 14430)\t1\n  (0, 23614)\t1\n  (0, 10300)\t2\n  (0, 16825)\t1\n  (0, 43319)\t1\n  (0, 34047)\t1\n  (0, 47187)\t1\n  :\t:\n  (4116, 46622)\t1\n  (4116, 12920)\t1\n  (4116, 23297)\t1\n  (4116, 21844)\t1\n  (4116, 3446)\t2\n  (4116, 27045)\t1\n  (4116, 37143)\t1\n  (4116, 38785)\t1\n  (4116, 43885)\t1\n  (4116, 36696)\t1\n  (4116, 38326)\t2\n  (4116, 29619)\t1\n  (4116, 51610)\t1\n  (4116, 24457)\t1\n  (4116, 26006)\t1\n  (4116, 39045)\t1\n  (4116, 11181)\t1\n  (4116, 46332)\t1\n  (4116, 49476)\t1\n  (4116, 18131)\t1\n  (4116, 15971)\t1\n  (4116, 52716)\t1\n  (4116, 7125)\t1\n  (4116, 21098)\t1\n  (4116, 33327)\t1\n"
     ]
    }
   ],
   "source": [
    "#system prints out the matrix values for the variable countTrain\n",
    "print(countTrain)"
   ]
  },
  {
   "cell_type": "code",
   "execution_count": 67,
   "id": "fuzzy-coating",
   "metadata": {
    "tags": [
     "outputPrepend"
    ]
   },
   "outputs": [
    {
     "output_type": "stream",
     "name": "stdout",
     "text": [
      "steal': 47646, 'wingnut': 54612, 'astroturfing': 4620, 'heileman': 23286, 'allahpundit': 3022, 'interlocutors': 26061, 'trainor': 50598, 'delineated': 13788, 'colloquial': 10682, 'ina': 25098, 'backlogged': 5187, 'anker': 3556, 'proprietorial': 39329, '410': 1016, 'nlsh0ocvdv': 34345, 'rfeb7bkgfm': 42286, 'bard': 5541, 'elie': 16749, 'wiesel': 54477, 'whitegenocidetm': 54374, 'squelch': 47045, 'cameos': 8486, 'picketed': 37509, 'risqué': 42508, 'stuever': 47893, 'vainglorious': 52802, 'accoutered': 2043, 'defray': 13674, 'lodging': 29802, 'paging': 36147, 'kappel': 27539, 'cabo': 8329, 'cayman': 9098, 'jules': 27325, 'witcover': 54708, 'hoffman': 23817, 'bugging': 7996, 'speedboats': 46737, '0843': 79, 'fadavi': 18547, 'riverine': 42542, 'schreck': 43970, 'klapper': 28100, 'lardner': 28730, 'gambrell': 20800, 'karimi': 27566, 'libbed': 29328, 'restrooms': 42012, 'valedictorian': 52809, 'demurrals': 13934, 'blended': 6785, 'dyspeptic': 16243, 'walloons': 53787, 'hahaha': 22524, 'dullards': 16076, 'rkqlho9jxj': 42563, 'aj': 2813, 'asamjulian': 4364, 'ygmsutm3dk': 55337, 'colinjones': 10616, 'vanukovych': 52910, 'shaffer': 44792, 'preschoolers': 38771, 'suspensions': 48518, 'medicalized': 31482, 'inattention': 25126, 'ramey': 40325, 'misbehave': 32283, 'socioeconomically': 46299, 'ameliorated': 3251, 'guideline': 22279, 'advantaged': 2435, 'gretel': 22023, 'kauffman': 27647, 'polarity': 38092, 'mccall': 31278, 'depauw': 14028, 'jonathon': 27174, 'hinote': 23683, 'beeping': 5951, 'oncoming': 35291, 'honked': 23988, 'chewed': 9681, 'cubbies': 12681, 'gortex': 21715, 'coldwisdom': 10606, 'sumbeyotch': 48229, 'retard': 42063, 'thinkig': 49808, 'roadgravel': 42582, 'psyop': 39553, 'admirethedistance': 2367, 'worshipper': 54959, 'leafleting': 28957, 'desensitizing': 14204, 'tali': 48956, 'sharot': 44913, 'canova': 8611, 'fredricka': 20263, 'whitfield': 54395, 'ukies': 51484, 'eltsin': 16809, 'ukronazi': 51491, 'ukie': 51483, 'sapiens': 43578, 'dominabitur': 15556, 'astra': 4598, 'cyrillic': 12929, 'russophobic': 43160, 'delighting': 13785, 'dalliance': 13009, 'reformocons': 41176, 'bushism': 8191, 'deprioritize': 14113, 'ebbs': 16357, 'levelheaded': 29255, 'reformocon': 41175, 'dabble': 12952, 'unlikeable': 52168, 'karpowitz': 27584, 'bearden': 5856, 'ryabkov': 43189, 'dropa': 15930, 'pu': 39561, 'tei': 49333, 'baian': 5290, 'ula': 51495, 'murshed': 33324, 'zaheed': 55500, 'demoralize': 13919, 'wikler': 54499, 'pccc': 36814, 'takei': 48926, 'baldwins': 5350, 'zavkmo4sqy': 55552, 'georgetakei': 21131, 'billybaldwin': 6513, 'welli': 54208, 'olympia': 35245, 'snowe': 46222, 'kumbayaism': 28397, 'murkier': 33312, '454': 1063, 'upstairs': 52566, 'conason': 11089, 'handicrafts': 22698, 'capably': 8638, 'shamkhani': 44859, 'pipers': 37671, 'jesuits': 26993, 'conversos': 11737, 'lainez': 28569, 'rubenstein': 43010, 'mort': 32922, 'shirks': 45114, '1843': 386, 'extirpate': 18360, 'flay': 19578, 'stomachs': 47613, 'wombs': 54813, 'execrable': 18089, 'strangulating': 47721, 'poniard': 38222, 'leaden': 28945, '1757': 339, '1834': 381, 'prom': 39218, 'dollarvigilante': 15534, 'bffs': 6371, 'rp45lhz_kim': 42964, 'magis': 30383, 'bloodsoaked': 6888, 'nazionist': 33781, 'cern': 9278, 'tated': 49153, 'rhune': 42315, 'undrinkable': 51901, 'kildee': 27954, 'harlow': 22848, 'arrestgovsnyder': 4266, '102k': 127, 'schuette': 43979, 'dubose': 16016, 'pervasiveness': 37244, 'keisha': 27716, 'personalizes': 37200, 'beasley': 5865, 'wexler': 54276, 'syncs': 48768, 'nonsectarian': 34472, 'acker': 2109, 'oversample': 35943, '641': 1307, '716': 1374, 'undesired': 51873, 'eavesdropped': 16350, 'glean': 21419, 'fitts': 19453, 'ehm': 16575, 'disparages': 15095, 'pastordscott': 36634, 'angelina': 3498, 'jolie': 27163, 'voight': 53520, 'aristocrat': 4156, 'kornfeld': 28271, 'deniro': 13962, 'micromanage': 31953, '1650': 316, '3900': 968, 'pericles': 37079, '366579': 941, 'orgs': 35542, 'jwj': 27412, 'standtogether': 47210, '553790148146217': 1207, 'holyoke': 23904, 'solidarity_gatherings': 46378, '5139': 1163, 'akid': 2836, 'northampton': 34547, '_blank': 1672, 'afscwm': 2592, 'thebestdemocracymoneycanbuy': 49671, 'maplight': 30787, 'schapiro': 43867, 'carveout': 8894, 'erasmus': 17524, 'dentons': 14005, 'mallow': 30593, 'hillblazers': 23632, 'itemized': 26609, 'rfp': 42288, 'guaranty': 22232, 'pbgc': 36809, 'millard': 32091, 'plasma': 37813, 'landmass': 28654, 'mindboggling': 32153, 'anunnaki': 3759, 'millenary': 32096, 'makings': 30525, 'evokes': 17945, 'mous': 33042, '15pm': 293, 'sauli': 43685, 'yusef': 55462, 'jalali': 26755, 'ict': 24623, 'hajizadeh': 22562, 'sajjil': 43365, 'morrocan': 32917, 'kilos': 27977, 'electro': 16690, 'soufiane': 46522, 'kayal': 27660, 'auvelais': 4933, 'dh': 14487, 'carjackings': 8788, 'meng': 31651, 'fdd': 18905, 'resubmit': 42017, 'proffering': 39127, 'linder': 29535, 'damped': 13043, 'insideclimate': 25784, 'sal': 43373, 'nuzzo': 34812, 'jiu': 27076, 'jitsu': 27072, 'hiassen': 23528, 'waks': 53743, 'furloughing': 20607, 'nonessential': 34438, 'noorani': 34499, 'mrpulso1oe': 33117, 'leaderboard': 28948, 'stoft': 47601, 'ingratiated': 25616, 'echelons': 16376, 'unturned': 52455, 'nosing': 34571, 'makia': 30522, 'hellstorm': 23329, 'palast': 36204, 'kimche': 27987, 'bollyn': 7100, 'disinfo': 15025, 'mms5hngeg7': 32513, 'q1bfnqviag': 39832, 'loeb': 29804, 'bequeath': 6211, 'thirsting': 49824, 'fudging': 20502, 'ansolabehere': 3633, 'crunched': 12608, 'raggedy': 40213, 'gerrymanderers': 21181, 'jowei': 27234, 'rodden': 42669, 'appending': 3883, 'intrusted': 26240, 'anglea': 3511, 'donegan': 15595, 'blitzes': 6830, 'disloyally': 15050, 'sidesteps': 45411, 'beefs': 5946, 'collender': 10665, 'nanamkin': 33578, 'johansson': 27123, 'yesmagazine': 55322, 'transfixed': 50658, 'intersect': 26132, 'performative': 37068, 'intersectionality': 26136, 'transformativespaces': 50664, 'zips': 55669, '10021': 110, '10028': 111, '725': 1382, 'densest': 13994, 'magana': 30366, '955': 1618, 'camacol': 8472, 'alancar': 2860, 'planalto': 37786, 'brasilia': 7525, 'vincente': 53335, 'carandolet': 8710, 'quito': 40061, 'strawberries': 47753, 'stawberry': 47353, 'foursomes': 20115, 'leblond': 29021, 'doro': 15667, 'lebond': 29022, 'jebby': 26903, 'bents': 6203, 'superstores': 48356, '20500': 649, 'makeable': 30511, 'odessans': 35071, 'zaporozhya': 55533, 'rinsing': 42467, 'kolomoysky': 28233, 'yatsenyuk': 55257, 'thieved': 49795, 'uncleared': 51666, 'understates': 51844, 'regrouping': 41284, 'immediacy': 24855, 'apathetically': 3797, 'fairies': 18591, 'choi': 9805, 'sil': 45489, 'cropping': 12506, 'yool': 55380, 'myongji': 33441, 'tae': 48879, 'rasputin': 40469, 'jtbc': 27267, 'hankyoreh': 22746, 'chosun': 9851, 'ilbo': 24754, 'ewha': 17967, 'womans': 54808, 'segye': 44400, 'stably': 47102, 'busan': 8180, 'nedal': 33850, 'hayk': 23062, 'fabricator': 18477, 'sleepers': 45894, 'precedes': 38596, '1621': 309, 'forgetful': 19993, 'unawares': 51601, 'wisecracks': 54680, 'stepdaughter': 47455, 'seesaw': 44382, 'reels': 41092, 'jawing': 26856, 'logician': 29823, 'comprehensible': 11053, 'dwarves': 16199, 'resonant': 41922, 'flourishes': 19700, 'tearjerker': 49256, 'impracticable': 25034, 'fiornia': 19364, 'nonsequitur': 34477, 'setmayer': 44677, 'warily': 53864, 'roasts': 42603, 'kbia': 27679, 'bram': 7493, 'sable': 43239, 'smit': 46072, 'hairstylist': 22554, 'meteorologist': 31830, 'draplin': 15830, 'vpei': 53609, 'cdo': 9130, '2032': 639, 'itc': 26601, 'zippy': 55668, 'duvall': 16191, 'wallach': 53777, 'appropriators': 3963, 'arsenault': 4292, 'lino': 29576, 'graglia': 21825, 'smartness': 46039, 'pickaninny': 37502, 'morgantown': 32878, 'cabaret': 8318, 'skinny': 45774, 'kel': 27719, 'tec': 49269, 'civis': 10075, 'bluebird': 6930, 'clarksburg': 10143, 'shreves': 45280, 'leaseburg': 29001, 'pulverize': 39639, 'shitter': 45130, 'gino': 21329, 'pubwich': 39585, 'ginos': 21331, 'sicilian': 45378, 'cheesy': 9616, 'sweetie': 48636, 'couth': 12179, 'brickside': 7665, 'hoagie': 23773, 'sriracha': 47071, 'agave': 2615, 'bologna': 7102, 'outback': 35691, 'steakhouse': 47373, 'carrey': 8848, 'motherfuckers': 32974, 'bushy': 8197, 'shack': 44767, '52s': 1181, 'cute': 12865, 'unkempt': 52145, 'earring': 16301, 'nicki': 34189, 'minaj': 32144, 'bungee': 8083, 'dangle': 13071, 'hileman': 23610, 'deflates': 13652, 'bumpkins': 8066, 'trudging': 51063, 'strollers': 47845, 'puddles': 39591, 'lotion': 29960, 'playpen': 37864, 'insani': 25755, 'utilitarian': 52716, 'grafton': 21824, 'rowlesburg': 42945, 'muffler': 33164, 'autobody': 4900, 'larew': 28732, 'skittles': 45792, 'pruntytown': 39486, 'mystique': 33463, 'shamanistic': 44846, 'interjects': 26056, 'renovations': 41616, 'grandfathered': 21854, 'defeatism': 13581, 'camus': 8526, 'burbling': 8102, 'interstates': 26143, 'incline': 25197, 'hellion': 23324, 'tyrannosaur': 51408, 'sledgehammers': 45890, 'tantalized': 49043, 'cheeks': 9598, 'busch': 8183, 'caked': 8386, 'spits': 46840, 'humanizing': 24339, 'pinkies': 37631, 'circumnavigate': 10014, 'doberman': 15436, 'pinscher': 37649, 'mullally': 33202, 'emmys': 16945, 'wows': 54982, 'strache': 47686, 'fpoe': 20142, 'norbert': 34505, 'hofer': 23812, 'instrumentalised': 25898, 'bellen': 6093, 'leaker': 28969, 'plucking': 37943, 'medine': 31499, 'rightists': 42422, 'sturdier': 47927, 'ragnarok': 40218, 'wavers': 54003, 'springboards': 46959, 'stabbers': 47089, 'erases': 17522, 'crossword': 12543, 'pmw': 38000, 'manasrah': 30645, 'shootdown': 45173, 'ushakov': 52663, 'marylhurst': 31015, 'watchtower': 53964, 'diversely': 15332, 'voir': 53523, 'hearkening': 23164, 'maryville': 31017, 'elonis': 16801, 'gandy': 20817, 'abuser': 1933, 'marbury': 30802, 'allentown': 3046, 'slitting': 45951, 'freemansburg': 20289, 'palettes': 36225, 'bcf': 5820, 'kgw': 27841, 'swollen': 48693, 'eyelids': 18438, 'pigments': 37560, 'maghrebi': 30374, 'jo503': 27091, '355th': 928, 'astor': 4592, '355': 927, '337': 897, 'shootingtracker': 45178, 'metzl': 31870, 'sicknesses': 45389, 'antiseptic': 3732, 'detoxifying': 14383, 'expectorant': 18203, 'quercetin': 39983, 'platelets': 37825, 'horseradish': 24118, 'antibacterial': 3678, 'decongestant': 13477, 'sundance': 48263, 'vacillated': 52773, '925': 1595, 'nab': 33493, 'cannery': 8586, 'untrustworthiness': 52450, 'haydee': 23056, 'gallardo': 20761, 'figueredo': 19232, 'yunier': 55454, 'remón': 41571, 'arzuaga': 4358, 'crítico': 12656, 'critico': 12472, 'fhrc': 19154, 'puck': 39587, 'smokeroom': 46087, 'faceted': 18502, 'protegé': 39394, 'collectivist': 10651, 'nationalizing': 33700, 'showered': 45261, 'carozza': 8831, 'southampton': 46556, 'ensnaring': 17282, 'wismith': 54695, 'moricette': 32887, 'anelle': 3486, 'germinal': 21173, 'artisan': 4335, 'slums': 46008, 'martelly': 30978, 'expatriates': 18193, 'misgovernment': 32333, 'digicel': 14647, 'nesner': 33980, 'bellerive': 6095, 'jacky': 26708, 'lumarque': 30120, 'quisqueya': 40057, '914': 1587, 'inaugurate': 25130, 'revolutionizing': 42251, 'fungicide': 20590, 'branching': 7498, 'benel': 6165, 'haitien': 22560, 'sews': 44722, 'stiller': 47537, 'karan': 27551, 'lon': 29852, 'garwood': 20885, 'poitevien': 38077, 'mito': 32484, 'palvetus': 36264, 'misinforms': 32351, 'leach': 28940, 'bliley': 6800, 'unhelpfully': 52031, 'montages': 32788, 'monorail': 32770, 'ganged': 20820, 'disembowel': 14959, 'kenney': 27756, 'buoyant': 8096, 'waypoints': 54016, 'itsover': 26622, 'x13iwozill': 55133, 'yp3fywpinl': 55422, 'hillaryhealth': 23623, 'inconsolably': 25240, 'bagging': 5268, 'beforeitsnews': 5967, 'thelastgreatstand': 49700, '38th': 965, 'uncorrupt': 51710, 'peccadilloes': 36862, 'disowned': 15090, 'revitalize': 42227, 'postmodernism': 38401, 'postsecularism': 38415, 'ericwalberg': 17555, 'adair': 2219, 'dich': 14561, 'pitcavage': 37698, 'sprinklers': 46970, 'dannette': 13093, 'baccari': 5152, 'abboud': 1746, 'hussam': 24458, 'ayloush': 5065, 'achenbach': 2087, 'dauber': 13189, 'niraj': 34308, 'chokshi': 9818, 'gerhart': 21157, 'saslow': 43629, 'yanan': 55224, 'wenjian': 54225, 'ismaaiyl': 26542, 'brinsley': 7719, 'saluting': 43453, 'entreaty': 17355, 'bylines': 8288, 'montel': 32797, 'rosalie': 42806, 'eucharistic': 17801, 'bays': 5801, 'evilly': 17929, '1911': 455, 'arduously': 4096, 'sallisaw': 43430, 'facebok': 18488, '2102': 672, 'heartedly': 23179, 'wingnuts': 54613, 'outlives': 35751, 'ruemmler': 43055, 'renominated': 41609, 'levey': 29267, 'imparts': 24912, '874': 1535, 'judgeships': 27295, 'zirkin': 55674, 'murguia': 33310, 'bacharach': 5154, 'unietd': 52047, 'rbcc': 40568, 'munnings': 33288, 'russiatalk': 43151, 'finmin': 19351, 'pandemics': 36284, 'zaniest': 55528, 'squeals': 47038, 'swisherthat': 48680, 'linz': 29580, 'aridly': 4139, 'deadlocks': 13282, 'unproductively': 52264, 'putsches': 39796, 'exasperates': 18000, 'monolithically': 32758, 'constructs': 11527, 'whig': 54327, 'wattenberg': 53989, 'rosenfeld': 42827, 'reconstitution': 40915, 'hondurans': 23972, 'enjoining': 17213, 'romeo': 42747, 'vásquez': 53652, 'velásquez': 53033, 'micheletti': 31921, 'stead': 47361, 'legitimated': 29105, 'tushnet': 51308, 'fillibuster': 19268, 'censuses': 9215, 'adorably': 2401, 'manley': 30718, 'nickelback': 34187, 'prokop': 39202, 'paradigmatic': 36380, 'idiosyncratic': 24669, 'gregarious': 22003, 'unsustainably': 52416, 'multibrand': 33213, 'zahir': 55502, 'hajw': 22565, 'fazed': 18884, 'withholds': 54725, 'dominick': 15568, 'aged15': 2618, 'collectiveevolution': 10648, 'ja': 26673, 'omni': 35277, 'passel': 36596, 'lebowski': 29023, 'eccentricities': 16369, 'pizzazz': 37742, 'decamping': 13375, 'weepy': 54140, 'lesbianism': 29213, 'bisexuality': 6622, 'thrashed': 49878, 'farrago': 18763, 'sarko': 43616, 'mummar': 33273, 'khadffi': 27845, 'alain': 2854, 'juppé': 27369, 'macron': 30311, 'arousing': 4242, 'fillon': 19271, 'vichy': 53219, 'vive': 53456, 'monsieur': 32778, 'wakens': 53738, 'stupor': 47926, 'stabenow': 47092, 'ayahuasca': 5058, 'immersive': 24867, 'dmt': 15422, 'lifelike': 29414, 'symphonies': 48748, 'hagia': 22516, 'attractions': 4763, 'numan': 34746, 'kurtulmus': 28419, 'clamping': 10110, 'sultanahmet': 48222, 'sener': 44517, 'ozdemir': 36075, 'frode': 20411, 'andersen': 3445, 'fadi': 18553, 'hakura': 22570, 'farhana': 18737, 'khera': 27884, 'rashad': 40458, 'coinciding': 10582, 'nipple': 34305, 'protruding': 39423, 'lipstick': 29598, 'defensibly': 13612, 'onkst': 35308, 'quatar': 39963, 'marshalls': 30970, 'shanto': 44877, 'iyengar': 26657, 'bickered': 6417, 'mutating': 33382, 'westwood': 54266, 'stereotypically': 47477, 'iats': 24577, 'iat': 24576, 'cleavages': 10223, 'jenée': 26957, 'frompovich': 20421, 'nutritionist': 34801, 'sickles': 45387, 'handmade': 22709, 'fiermonte': 19212, 'galliani': 20767, 'barrera': 5618, 'hagmeier': 22519, 'multnomah': 33261, 'willamette': 54534, 'jelf': 26929, 'torrance': 50396, 'munro': 33289, 'luc': 30066, 'rios': 42469, 'rabbu': 40116, 'reinstall': 41364, 'mushin': 33346, 'ahmar': 2709, 'gehl': 20996, 'cuddle': 12700, 'heineken': 23290, 'liotta': 29587, 'sidles': 45419, 'guyness': 22404, 'tequila': 49479, 'imperioli': 24952, 'dully': 16080, 'refill': 41137, 'magners': 30392, 'strongbow': 47849, 'cheerios': 9607, 'traffics': 50575, 'subarus': 47957, 'fwilkinson1': 20656, 'zara': 55537, 'zkessler': 55682, 'symphony': 48749, 'downpours': 15751, 'sprouted': 46977, 'haltingly': 22618, 'predawn': 38634, 'probablity': 39034, 'orvis': 35599, 'intermeshed': 26070, 'welded': 54195, 'bormann': 7271, 'neuschwabenland': 34044, 'dönitz': 16251, 'führer': 20666, 'shangri': 44869, 'harbinson': 22799, 'agartha': 2612, 'neu': 34013, 'schwabenland': 43999, 'brackish': 7447, 'todt': 50232, 'ohrdruf': 35173, 'ddr': 13265, 'depositions': 14091, 'germanys': 21172, 'arnstadt': 4226, 'charite': 9488, 'anlage': 3559, 'starmerue': 47250, 'bonzes': 7178, 'bacteriological': 5224, 'unexplored': 51946, 'pennons': 36988, 'ritscher': 42518, 'göring': 22432, 'kiel': 27941, 'plata': 37819, '977': 1635, 'schäffer': 44011, 'mustn': 33376, 'neuberlin': 34014, 'wehrmacht': 54144, 'poltava': 38189, 'reichsführer': 41320, 'antarktische': 3656, 'siedlungnsfrauen': 45421, 'asf': 4386, 'seaplane': 44253, 'maud': 31188, 'ufologist': 51462, 'ivanenko': 26638, 'dornier': 15665, 'seaplanes': 44254, 'emulating': 17012, 'muhlig': 33181, 'hofmann': 23819, 'swabia': 48554, 'rasse': 40473, 'siedlungshauptamt': 45423, 'rusha': 43132, 'siedlungsfrauen': 45422, 'volksdeutsch': 53534, 'seventeenth': 44703, 'aryans': 4356, 'eindeutschung': 16602, 'germanization': 21168, 'ristna': 42510, 'hiiumaa': 23588, 'deserter': 14208, 'irma': 26418, 'griese': 22043, 'mengele': 31652, 'scavenged': 43834, 'grossadmiral': 22127, 'steamers': 47385, 'carting': 8877, 'wichtl': 54443, 'artamen': 4302, 'yugas': 55436, 'satya': 43670, 'adjoins': 2318, 'kadath': 27448, 'reoccupied': 41629, 'vostok': 53570, 'inaccessibility': 25100, 'pleiadians': 37900, 'zeta': 55610, 'reticulans': 42078, 'reptoids': 41775, 'aldebarani': 2912, 'foo': 19854, 'schwarzwald': 44005, 'saucer': 43674, 'transistor': 50678, 'stagjuk': 47133, 'shortwave': 45221, 'niitaka': 34257, 'yamamoto': 55219, 'kido': 27936, 'butai': 8225, 'jivaro': 27077, 'yanayacu': 55225, 'iquitos': 26385, 'jimstone': 27058, 'kiddie': 27926, 'preet': 38674, 'bharara': 6383, 'mariano': 30853, 'rajoy': 40287, 'twinned': 51359, 'anibal': 3534, 'fuente': 20510, 'melilla': 31577, 'fnl': 19773, 'escudero': 17650, 'psychopathological': 39542, 'deluged': 13817, 'odium': 35077, 'ballooning': 5376, 'butchered': 8229, 'idiocies': 24664, 'mutt': 33399, 'sergeants': 44615, 'huw': 24479, 'incanting': 25143, 'megaphoning': 31540, 'mast': 31082, 'wither': 54717, 'snoopers': 46204, 'untargeted': 52424, 'interception': 26009, 'blackmailer': 6688, 'biscuit': 6618, 'foolproof': 19869, 'briefcase': 7679, 'precondition': 38620, 'bonding': 7151, 'theistic': 49698, 'romantics': 42744, 'romanticists': 42741, 'companionate': 10934, 'arousal': 4238, 'neurotransmitter': 34043, 'gory': 21718, 'sternberg': 47488, 'triangular': 50864, 'villager': 53314, 'butterflies': 8241, 'stabbings': 47091, 'burglaries': 8127, 'anegla': 3485, '1million': 581, 'gatestone': 20914, 'freddi': 20255, 'lohse': 29838, '344': 909, 'tania': 49028, 'kambouri': 27506, 'thuringia': 49971, 'buenos': 7976, 'aires': 2773, 'salvadoran': 43456, 'exaggerator': 17985, 'levittown': 29282, 'tonier': 50312, 'bogeymen': 7051, 'skimpier': 45765, 'grifter': 22055, 'flayed': 19579, 'fusillades': 20631, 'blockading': 6845, 'xinis': 55159, 'impersonations': 24961, 'yelping': 55304, 'arf': 4108, 'slavishly': 45874, 'fuhrer': 20520, 'manson': 30752, 'thelma': 49701, 'cuckoo': 12692, 'contemplation': 11586, 'outings': 35731, 'biglipnagger': 6452, 'fiile': 19245, 'memadmax': 31601, 'woodpile': 54851, 'behoov': 6028, 'havent': 23024, 'carlcasino': 8792, 'soro': 46497, 'johnstown': 27143, 'suprise': 48408, 'primay': 38946, 'oversea': 35946, 'muhaysini': 33180, 'jeish': 26926, 'enab': 17019, 'cargoes': 8772, 'sueño': 48149, 'voto': 53590, 'flushing': 19751, 'ingram': 25613, 'huffines': 24296, 'redraft': 41049, '014': 32, '023': 37, 'countywide': 12137, 'scanner': 43793, 'intercivic': 26018, 'tabultion': 48853, 'disrespectfully': 15181, 'kutak': 28427, 'wilbourn': 54505, 'ingrams': 25614, '846': 1514, 'outmaneuvering': 35756, '5q4l04b5pm': 1263, 'slacking': 45824, 'freeloading': 20286, 'cornel': 11879, 'salons': 43439, 'hakeem': 22566, 'jeffries': 26923, 'shivers': 45138, 'usatoday': 52634, 'perriello': 37161, 'qddr': 39861, 'zvi': 55730, 'mazel': 31252, 'opcw': 35346, 'dahiyat': 12972, 'semaan': 44473, 'intl': 26189, 'insensitivities': 25772, 'goeas': 21581, 'everyperson': 17907, 'casualness': 8963, 'burgers': 8124, 'turnoff': 51293, 'jaunt': 26837, 'morsels': 32920, 'lamentable': 28607, 'clairvoyant': 10097, 'gobbled': 21551, 'rethought': 42075, 'bostonian': 7309, 'chandeliered': 9407, 'popes': 38260, 'xii': 55156, 'reverently': 42193, 'encyclical': 17080, 'belen': 6057, 'lithuanian': 29652, 'windup': 54596, 'bombastically': 7125, 'genuflecting': 21098, 'murtaza': 33327}\n"
     ]
    }
   ],
   "source": [
    "def get_countVector_stats():\n",
    "    \n",
    "    print(countTrain.shape)\n",
    "    print(countVector.vocabulary_)\n",
    "    \n",
    "get_countVector_stats()\n",
    "#our training doc matrix size is (4117, 56148)"
   ]
  },
  {
   "cell_type": "code",
   "execution_count": 68,
   "id": "liquid-headquarters",
   "metadata": {},
   "outputs": [],
   "source": [
    "countTest = countVector.transform(x_test)"
   ]
  },
  {
   "cell_type": "code",
   "execution_count": 69,
   "id": "japanese-weight",
   "metadata": {},
   "outputs": [],
   "source": [
    "#tfidfVectorizer- helps our system to recognize stop-words from any text\n",
    "#function will identify unnessecary words and once it reaches 0.70 it will delete them so the system can focus on the important parts of the text\n",
    "\n",
    "tfidfVector=TfidfVectorizer(stop_words='english',max_df=0.7)\n",
    "tfidfVector_train=tfidfVector.fit_transform(x_train.values.astype('U')) \n",
    "tfidfVector_test=tfidfVector.transform(x_test.values.astype('U'))"
   ]
  },
  {
   "cell_type": "code",
   "execution_count": 70,
   "id": "breathing-polyester",
   "metadata": {},
   "outputs": [
    {
     "output_type": "stream",
     "name": "stdout",
     "text": [
      "[[0. 0. 0. ... 0. 0. 0.]\n [0. 0. 0. ... 0. 0. 0.]\n [0. 0. 0. ... 0. 0. 0.]\n ...\n [0. 0. 0. ... 0. 0. 0.]\n [0. 0. 0. ... 0. 0. 0.]\n [0. 0. 0. ... 0. 0. 0.]]\n"
     ]
    }
   ],
   "source": [
    "def get_tfidfVector_stats():\n",
    "    tfidfVector_train.shape\n",
    "    print(tfidfVector_train.A[:10])\n",
    "get_tfidfVector_stats()"
   ]
  },
  {
   "cell_type": "code",
   "execution_count": 75,
   "id": "covered-latvia",
   "metadata": {},
   "outputs": [],
   "source": [
    "tfidfVector_test = tfidfVector.transform(x_test)"
   ]
  },
  {
   "cell_type": "code",
   "execution_count": 77,
   "id": "south-strain",
   "metadata": {},
   "outputs": [
    {
     "output_type": "stream",
     "name": "stdout",
     "text": [
      "['00', '000', '0000', '00000031', '00006', '0001', '0001pt', '0002', '000billion', '000ft']\n"
     ]
    }
   ],
   "source": [
    "#shows us feature names from the training dataset we implemented into the system\n",
    "print(countVector.get_feature_names()[:10])"
   ]
  },
  {
   "cell_type": "code",
   "execution_count": 72,
   "id": "objective-mason",
   "metadata": {
    "tags": []
   },
   "outputs": [
    {
     "output_type": "stream",
     "name": "stdout",
     "text": [
      "esleyan', 'wespa', 'wesson', 'west', 'westampton', 'westboro', 'westbound', 'westbrook', 'westbury', 'westchester', 'western', 'westerners', 'westernization', 'westernized', 'westernmost', 'westerville', 'westfall', 'westfield', 'westgate', 'westinghouse', 'westland', 'westminster', 'westmipolitics', 'westpac', 'westward', 'westwards', 'westwick', 'westwingreport', 'westwood', 'wet', 'wetback', 'wetiko', 'wetland', 'wetlands', 'wets', 'wetters', 'wetting', 'wevote', 'wexler', 'weâ', 'wfaa', 'wfla', 'wfp', 'wfpl', 'wgn', 'wgv', 'wgv8dps', 'wh', 'wha', 'whack', 'whacked', 'whacky', 'whaddya', 'whale', 'whalen', 'whales', 'whaling', 'whammy', 'wharton', 'whatnot', 'whatreallyhappened', 'whats', 'whatsapp', 'whatsoever', 'whatsofuckingever', 'whatta', 'whatâ', 'wheat', 'wheaton', 'whedon', 'wheel', 'wheelchair', 'wheeled', 'wheeler', 'wheelhouse', 'wheeling', 'wheels', 'wheezing', 'whelan', 'whereabouts', 'whereever', 'wherewithal', 'whet', 'whetsel', 'whetted', 'whew', 'whichever', 'whiff', 'whiffed', 'whig', 'whigs', 'whil', 'whilst', 'whim', 'whimper', 'whims', 'whimsy', 'whine', 'whined', 'whiner', 'whiners', 'whines', 'whinge', 'whinging', 'whining', 'whiny', 'whip', 'whiplash', 'whiplashed', 'whipped', 'whipping', 'whips', 'whipsawed', 'whipsaws', 'whirl', 'whirling', 'whirlpool', 'whirlwind', 'whirring', 'whisked', 'whisker', 'whiskey', 'whisper', 'whispered', 'whispering', 'whispers', 'whistle', 'whistleblower', 'whistleblowers', 'whistleblowing', 'whistles', 'whistling', 'whit', 'whitaker', 'white', 'whiteboard', 'whitegenocidetm', 'whitehall', 'whitehaven', 'whitehead', 'whitehorse', 'whitehouse', 'whitelash', 'whiteley', 'whitelist', 'whitelisted', 'whiteman', 'whiten', 'whiteness', 'whiteout', 'whiter', 'whites', 'whitewash', 'whitewashes', 'whitewashing', 'whitewater', 'whitewolfpack', 'whitfield', 'whitlock', 'whitman', 'whitney', 'whiton', 'whittle', 'whittled', 'whiz', 'whizzing', 'whn', 'whoa', 'whocoulddanode', 'whodunit', 'whois', 'wholehearted', 'wholeheartedly', 'wholeness', 'wholesale', 'wholesaler', 'wholesome', 'wholesomeness', 'wholey', 'wholly', 'whomever', 'whoop', 'whooped', 'whoopi', 'whooping', 'whoops', 'whopper', 'whoppers', 'whopping', 'whore', 'whored', 'whores', 'whoring', 'whosoever', 'whrite', 'whup', 'whupped', 'whyno', 'whyviolence', 'wi', 'wibc', 'wicca', 'wiccan', 'wiccans', 'wichita', 'wichtl', 'wick', 'wicked', 'wickedness', 'wickens', 'wicker', 'wicks', 'wickwire', 'wiconi', 'wide', 'widely', 'widen', 'widened', 'widening', 'widens', 'wider', 'widespread', 'widest', 'widget', 'widgets', 'widow', 'widower', 'widows', 'width', 'wiedemer', 'wiegmann', 'wield', 'wielded', 'wielding', 'wields', 'wien', 'wiener', 'wieners', 'wiersinga', 'wiesel', 'wiesenthal', 'wife', 'wifi', 'wig', 'wigged', 'wiggins', 'wiggle', 'wiggling', 'wiggly', 'wigner', 'wihbvi3', 'wijnbergen', 'wiki', 'wikileak', 'wikileaked', 'wikileakers', 'wikileakes', 'wikileaks', 'wikimedia', 'wikipedia', 'wikleaks', 'wikler', 'wiktor', 'wil', 'wilayat', 'wilayet', 'wilberforce', 'wilbourn', 'wilcher', 'wilcox', 'wild', 'wildberger', 'wildcard', 'wildcats', 'wilde', 'wilder', 'wilderness', 'wilders', 'wildest', 'wildfire', 'wildfires', 'wildhog', 'wilding', 'wildlife', 'wildlifeplanet', 'wildly', 'wilds', 'wildstein', 'wile', 'wiles', 'wiley', 'wilhelm', 'wilkerson', 'wilkinson', 'wilks', 'wilkson', 'willamette', 'willard', 'willed', 'willem', 'willett', 'willey', 'willful', 'willfully', 'william', 'williams', 'williamsburg', 'williamson', 'williamsport', 'willie', 'willing', 'willingly', 'willingness', 'willis', 'williston', 'willkie', 'willow', 'willowcreek', 'willows', 'willpower', 'wills', 'willsboro', 'willy', 'wilmington', 'wilminton', 'wilmore', 'wilmslow', 'wilson', 'wilsonian', 'wilt', 'wilted', 'wily', 'wim', 'wimmer', 'wimp', 'wimps', 'wimpy', 'win', 'wince', 'winced', 'winchester', 'wincing', 'wind', 'windbag', 'winder', 'windfall', 'windfalls', 'windham', 'winding', 'windmilling', 'window', 'windowed', 'windows', 'winds', 'windschuttle', 'windshield', 'windshields', 'windsor', 'windup', 'windword', 'windy', 'wine', 'winebagos', 'winecup', 'wined', 'winepress', 'winery', 'winfield', 'winfrey', 'wing', 'winged', 'winger', 'wingers', 'wingman', 'wingnut', 'wingnuts', 'wingo', 'wings', 'wingspan', 'wingspans', 'wingsuit', 'wingtip', 'wingtips', 'winiecki', 'winifred', 'wining', 'wink', 'winked', 'winkler', 'winks', 'winless', 'winn', 'winnable', 'winnefeld', 'winner', 'winners', 'winnetka', 'winning', 'winnings', 'winnipeg', 'winnow', 'winnowed', 'winnowing', 'winona', 'wins', 'winship', 'winston', 'wint', 'wintemute', 'winter', 'winterburn', 'winters', 'winterset', 'wintertime', 'winthrop', 'winton', 'winwood', 'wipe', 'wiped', 'wipeout', 'wipes', 'wiping', 'wir', 'wire', 'wired', 'wireless', 'wires', 'wiretap', 'wiretapped', 'wiretapping', 'wiretaps', 'wiring', 'wirralinittogether', 'wirth', 'wis', 'wisc', 'wisconsin', 'wisconsins', 'wisdom', 'wisdoms', 'wise', 'wisecracking', 'wisecracks', 'wised', 'wisely', 'wiser', 'wisest', 'wiseup', 'wish', 'wished', 'wisher', 'wishers', 'wishes', 'wishful', 'wishing', 'wishon', 'wishy', 'wismith', 'wisn', 'wisniewski', 'wisp', 'wispy', 'wistful', 'wistfully', 'wistv', 'wit', 'witch', 'witchcraft', 'witches', 'witchhunt', 'witcover', 'withal', 'withdraw', 'withdrawal', 'withdrawals', 'withdrawing', 'withdrawn', 'withdraws', 'withdrew', 'wither', 'withered', 'withering', 'witherspoon', 'withheld', 'withhold', 'withholding', 'withholdings', 'withholds', 'withstand', 'withstanding', 'withstood', 'withthe', 'witless', 'witness', 'witnessed', 'witnesses', 'witnessing', 'wits', 'witte', 'wittenberg', 'wittenberger', 'wittenburg', 'witterings', 'witters', 'witticisms', 'wittily', 'witting', 'wittingly', 'witty', 'wives', 'wizard', 'wizards', 'wizbang', 'wjc', 'wjhg', 'wjz', 'wk', 'wkdt', 'wl', 'wld', 'wlox', 'wls', 'wm', 'wm4duucnxn', 'wmal', 'wmca', 'wmd', 'wmds', 'wmo', 'wmp', 'wmps', 'wmur', 'wmw_admin', 'wnd', 'wnde', 'wni9lmsppr', 'wnyc', 'wo', 'woah', 'wobble', 'wobbled', 'wobbles', 'wobbly', 'woe', 'woeful', 'woefully', 'woes', 'wofford', 'wojnar', 'woke', 'woken', 'wolbachia', 'wold', 'wolf', 'wolfcastle', 'wolfe', 'wolfeboro', 'wolfgang', 'wolfowitz', 'wolfsburg', 'wolfson', 'wolin', 'wolinski', 'wolking', 'wolverine', 'wolverines', 'wolves', 'woman', 'womanizer', 'womanizing', 'womans', 'womanspiration', 'womansvibe', 'womb', 'wombleranger', 'wombs', 'women', 'womenagainstfeminism', 'womenfolk', 'womens', 'womensucceed', 'won', 'wonder', 'wondered', 'wonderful', 'wonderfully', 'wondering', 'wonderkid', 'wonderland', 'wonders', 'wong', 'wonk', 'wonkblog', 'wonkier', 'wonkiness', 'wonkish', 'wonks', 'wonky', 'wont', 'wonâ', 'woo', 'wood', 'woodall', 'woodard', 'woodblock', 'woodbury', 'wooded', 'wooden', 'woodhouse', 'woodland', 'woodlands', 'woodlawn', 'woodley', 'woodpile', 'woodrow', 'woodruff', 'woods', 'woodshed', 'woodward', 'woodwind', 'woodwork', 'woody', 'wooed', 'woofed', 'woofle', 'woohoo', 'wooing', 'wool', 'woolard', 'woolen', 'woolf', 'woolfe', 'woolsey', 'woolson', 'woon', 'wooster', 'woot', 'wooten', 'wootenomics', 'wopabmhf3v', 'wor', 'worcester', 'word', 'worddocument', 'worded', 'wordiness', 'wording', 'wordings', 'wordlessly', 'wordpress', 'words', 'wordsmithing', 'wordsum', 'wore', 'work', 'workable', 'workarounds', 'workday', 'worked', 'worker', 'workers', 'workflow', 'workforce', 'workforces', 'working', 'workingmen', 'workings', 'workload', 'workman', 'workmanlike', 'workmen', 'workout', 'workouts', 'workplace', 'workplaces', 'works', 'worksheets', 'workshop', 'workshops', 'workstation', 'workweek', 'workwell', 'workâ', 'worl', 'world', 'worldcom', 'worldism', 'worldly', 'worldnow', 'worldpost', 'worlds', 'worldtruth', 'worldview', 'worldviews', 'worldwide', 'worley', 'worm', 'wormhole', 'wormholes', 'worming', 'worms', 'wormuth', 'worn', 'worried', 'worries', 'worrisome', 'worry', 'worrying', 'worryingly', 'worrywarts', 'worse', 'worsen', 'worsened', 'worsening', 'worsens', 'worship', 'worshiped', 'worshiper', 'worshipers', 'worshiping', 'worshipped', 'worshipper', 'worshippers', 'worships', 'worst', 'worth', 'worthiness', 'worthless', 'worthwhile', 'worthy', 'wortinger', 'wouldn', 'wouldnt', 'woulds', 'wound', 'wounded', 'wounding', 'wounds', 'wouter', 'wove', 'woven', 'wow', 'wowed', 'wowing', 'wows', 'wp', 'wpa', 'wpdevelopers', 'wpvi', 'wqbklwosapimw2s', 'wracked', 'wracking', 'wraith', 'wrangle', 'wrangled', 'wrangling', 'wrap', 'wrapped', 'wrapper', 'wrappers', 'wrapping', 'wraps', 'wraptextwithpunct', 'wrath', 'wrcb', 'wreak', 'wreaked', 'wreaking', 'wreath', 'wreaths', 'wreck', 'wreckage', 'wrecked', 'wrecking', 'wrecks', 'wren', 'wrench', 'wrenches', 'wrenching', 'wrenfoe', 'wrenn', 'wrest', 'wrested', 'wresting', 'wrestle', 'wrestled', 'wrestler', 'wrestlers', 'wrestling', 'wretched', 'wrharticles', 'wriggles', 'wriggling', 'wright', 'wrigley', 'wrigleyville', 'wring', 'wringing', 'wrings', 'wrinkle', 'wrinkled', 'wrinkles', 'wrinkly', 'wrist', 'wrists', 'writ', 'write', 'writedowns', 'writer', 'writers', 'writes', 'writhe', 'writhing', 'writing', 'writings', 'writs', 'written', 'wrko', 'wrong', 'wrongdoer', 'wrongdoers', 'wrongdoing', 'wrongdoings', 'wronged', 'wrongfooting', 'wrongful', 'wrongfully', 'wrongheaded', 'wrongly', 'wrongs', 'wrot', 'wrote', 'wrought', 'wroughton', 'wrung', 'wryly', 'wsj', 'wsws', 'wta', 'wtaq', 'wtc1', 'wtf', 'wth', 'wti', 'wto', 'wtop', 'wtwc', 'wuerl', 'wullschleger', 'wunderground', 'wunderkind', 'wunsch', 'wurdi', 'wurm', 'wuss', 'wvewkizhf1szbbed5o', 'wvmihyzuhz', 'wvu', 'ww', 'ww1', 'ww2', 'ww3', 'wwe', 'wwf', 'wwi', 'wwii', 'wwiii', 'wwl', 'wwn', 'wwp', 'www', 'wxxre', 'wxyz', 'wy', 'wyand', 'wyatt', 'wyda', 'wyden', 'wydra', 'wylie', 'wyman', 'wyndham', 'wynette', 'wynn', 'wynnewood', 'wynton', 'wynwood', 'wyo', 'wyoming', 'wyrd', 'wyrding', 'wytheville', 'wzwvworazd', 'wzxeh70oum', 'wüthrich', 'x13iwozill', 'x22report', 'xagqjqqufamd', 'xau', 'xavier', 'xb', 'xbox', 'xddctwndz32dvkjrouuac9z2t6ve36lsyyjuzcc2ntg6uir', 'xdr', 'xe5pm3itrc', 'xeno', 'xenobiotic', 'xenografts', 'xenon', 'xenophobe', 'xenophobia', 'xenophobic', 'xers', 'xerxes', 'xetv', 'xhu4ljzb4h', 'xi', 'xia', 'xii', 'xiii', 'xinhua', 'xinis', 'xinjiang', 'xiqwy4ulsv', 'xiâ', 'xjoqll5lfy', 'xl', 'xlii', 'xlqgq6ksoo', 'xm', 'xml', 'xochitl', 'xom', 'xqu6jbagbq', 'xr9tij32vguimohq94xyqajonydeghb5u5b5p', 'xrdojtxo3v', 'xrhonda', 'xsandiegoca', 'xsara', 'xuan', 'xudong', 'xuunygclr1', 'xvi', 'xw88bmtxhsfg9k', 'xwhqaloceuygc0clbkw', 'xx', 'xxfti6hasvcjt1mhemi7kwomz', 'xxgc7vh11z', 'xxi', 'xxii', 'xxiii', 'xxxiii', 'xylene', 'xze', 'y2', 'y588nsj', 'y9croxgawva', 'y9qb10jp', 'y_axis', 'ya', 'yaacov', 'yaad', 'yaakov', 'yaari', 'yabasta', 'yacht', 'yachting', 'yadda', 'yadgar', 'yahoo', 'yahoos', 'yahu', 'yahweh', 'yahya', 'yair', 'yakin', 'yakov', 'yakovenko', 'yale', 'yalta', 'yamadi', 'yamamoto', 'yamini', 'yammer', 'yammering', 'yan', 'yanan', 'yanayacu', 'yang', 'yangon', 'yank', 'yanked', 'yankee', 'yankeebeatcheck', 'yankees', 'yanking', 'yanks', 'yankton', 'yann', 'yanukovich', 'yanukovych', 'yapping', 'yar', 'yard', 'yardage', 'yards', 'yardstick', 'yarmouk', 'yarmouth', 'yarn', 'yarosh', 'yasiel', 'yasigi', 'yasmina', 'yasmine', 'yasseen', 'yassin', 'yates', 'yats', 'yatsenyuk', 'yaw', 'yawar', 'yawarbaig', 'yawn', 'yawned', 'yawning', 'yay', 'yazidi', 'yazidis', 'yazigi', 'ydstie', 'ydy3dceyk', 'ye', 'yea', 'yeah', 'year', 'yearlong', 'yearly', 'yearn', 'yearned', 'yearning', 'yearnings', 'yearns', 'years', 'yearts', 'yeas', 'yeast', 'yechury', 'yeddiyurappa', 'yediyurappa', 'yeganeh', 'yehuda', 'yeild', 'yekaterina', 'yell', 'yelled', 'yellen', 'yeller', 'yelling', 'yello', 'yellow', 'yellowhammer', 'yellows', 'yellowstone', 'yells', 'yelp', 'yelping', 'yeltsin', 'yemen', 'yemeni', 'yemenis', 'yen', 'yengo', 'yenta', 'yeoman', 'yep', 'yepsen', 'yer', 'yera', 'yerkes', 'yes', 'yesh', 'yeshitela', 'yeshua', 'yesmagazine', 'yesnicksearcy', 'yesonprop1', 'yesses', 'yessiree', 'yesterday', 'yesterdays', 'yevgeniy', 'yevgeny', 'yevtushenko', 'yezidi', 'yezidis', 'yggdrasil', 'ygleasias', 'yglesias', 'ygmsutm3dk', 'yi', 'yiannopoulos', 'yiddish', 'yield', 'yielded', 'yielding', 'yields', 'yigal', 'yikes', 'yildirim', 'yinon', 'yippee', 'yips', 'yishuv', 'yitzhak', 'yk1vjiolmd', 'ykjazzcxo9', 'ykw4lcmtlfe32kys5odreupsv5zwvgl9sz', 'ylan', 'ymca', 'ynetnews', 'yo', 'yobra', 'yoda', 'yoder', 'yoga', 'yogesh', 'yogi', 'yogurt', 'yoho', 'yoke', 'yoked', 'yoko', 'yolk', 'yolo', 'yom', 'yong', 'yongsan', 'yonhap', 'yoni', 'yoo', 'yooge', 'yool', 'yoram', 'yore', 'yorgi', 'york', 'yorker', 'yorkers', 'yorktown', 'yosemite', 'yoshikawa', 'youang', 'yougov', 'youm', 'youman', 'young', 'youngand', 'younger', 'youngest', 'youngish', 'youngster', 'youngsters', 'youngstown', 'yournewswire', 'yous', 'yousee', 'yousef', 'yousefzadeh', 'yousf', 'youssef', 'youssuf', 'yousui', 'youth', 'youthful', 'youths', 'youtu', 'youtube', 'youtuber', 'youve', 'youâ', 'yovotovsbloqueo', 'yoweri', 'yoy', 'yp3fywpinl', 'ypg', 'ypres', 'ypsilanti', 'yr', 'yrs', 'yt', 'yu', 'yuan', 'yuca', 'yucca', 'yue', 'yuengling', 'yuga', 'yugas', 'yuge', 'yugos', 'yugoslav', 'yugoslavia', 'yukawa', 'yukiya', 'yukon', 'yukos', 'yuksekdag', 'yule', 'yulee', 'yuli', 'yulia', 'yulin', 'yulin2016', 'yulumbu', 'yuma', 'yunier', 'yup', 'yuppie', 'yurasumy', 'yurbfwerwncrk3dpgmdzge', 'yuri', 'yuriy', 'yurukoglu', 'yusef', 'yusen', 'yushchenko', 'yusifiy', 'yusor', 'yusufiy', 'yuukopvywj', 'yuuuugge', 'yuval', 'yvan', 'yves', 'yves_at_nakedcapitalism', 'yvette', 'yvnz0jjf52v', 'yvonne', 'ywtdmivi1npuko', 'yy', 'yzidis', 'z06', 'zabadani', 'zabit', 'zabiullah', 'zabivaka', 'zabivat', 'zac', 'zacarias', 'zach', 'zacharopoulos', 'zachary', 'zack', 'zadroga', 'zafar', 'zafaraniya', 'zafeylys', 'zafzlal', 'zagging', 'zags', 'zaharakos', 'zaheed', 'zahi', 'zahir', 'zahraa', 'zaid', 'zainab', 'zaino', 'zaire', 'zaitseva', 'zaitz', 'zakaria', 'zakharchenko', 'zakharova', 'zakheim', 'zakho', 'zaki', 'zakir', 'zakumi', 'zaleski', 'zalgiris', 'zalmay', 'zambales', 'zambia', 'zambian', 'zambrano', 'zamin', 'zandi', 'zanganeh', 'zaniest', 'zanni', 'zany', 'zanzara', 'zap', 'zaporozhya', 'zapotosky', 'zappa', 'zapping', 'zara', 'zarate', 'zarathustra', 'zarb', 'zarbi', 'zardak', 'zaria', 'zarif', 'zaslow', 'zatsepin', 'zaun', 'zauzmer', 'zaved', 'zaventem', 'zavifcqrpif', 'zavkmo4sqy', 'zaw', 'zawahiri', 'zawr', 'zayas', 'zayed', 'zayonchkovskaya', 'zazhi', 'zbigniew', 'zc', 'zdanovich', 'zdavonich', 'zeal', 'zealand', 'zealander', 'zealot', 'zealotry', 'zealots', 'zealous', 'zealously', 'zeaxanthin', 'zebari', 'zebras', 'zechariah', 'zed', 'zedillo', 'zedong', 'zee', 'zeid', 'zeidman', 'zeifman', 'zeigler', 'zeitgeist', 'zeitz', 'zeitzoff', 'zekman', 'zelaya', 'zeldin', 'zeleny', 'zelizer', 'zell', 'zeller', 'zen', 'zenith', 'zenki', 'zenko', 'zenned', 'zeno', 'zepecki', 'zephyr', 'zeppelin', 'zero', 'zeroed', 'zeroes', 'zerohedge', 'zeroing', 'zervos', 'zest', 'zeta', 'zetter', 'zeynab', 'zeynep', 'zeynoddin', 'zezima', 'zf8orobaqt', 'zfhbhsfdbzbrkx8n9h1', 'zh', 'zhang', 'zhanna', 'zhaojin', 'zhayynn', 'zhe', 'zheleznyak', 'zhirinovsky', 'zhukovsky', 'zia', 'zidan', 'zielie', 'zients', 'ziffel', 'zig', 'zigging', 'zignal', 'zigs', 'zigzagging', 'zijin', 'zika', 'zilch', 'zillow', 'zimbabwe', 'zimbabwean', 'zimbabweans', 'zimeray', 'zimmer', 'zimmerman', 'zimring', 'zinc', 'zing', 'zinged', 'zinger', 'zingers', 'zinke', 'zinn', 'zio', 'ziomedia', 'zion', 'zionazis', 'zionism', 'zionist', 'zionistic', 'zionists', 'zionland', 'zionsville', 'zip', 'zipped', 'zipping', 'zippy', 'zips', 'zipties', 'ziran', 'zirconium', 'ziren', 'zirkin', 'zirp', 'zis', 'zitner', 'zittrain', 'ziyar', 'zjqtb9ilcfcb6xkvh', 'zkef2xnlirody3swqyrejrebui', 'zkessler', 'zkki8otzhz8nnlf1qofgapitaen', 'znkniw5iqmby', 'zodiac', 'zoe', 'zoellick', 'zohar', 'zolile', 'zoll', 'zoltan', 'zombie', 'zombies', 'zonal', 'zone', 'zones', 'zoning', 'zonta', 'zoo', 'zook', 'zoologist', 'zoology', 'zoom', 'zoomed', 'zooming', 'zooms', 'zor', 'zora', 'zorching', 'zouzou', 'zova', 'zubeidat', 'zuck', 'zucker', 'zuckerberg', 'zuckerburg', 'zuckerman', 'zuesse', 'zukowski', 'zulema', 'zulia', 'zullo', 'zulu', 'zuma', 'zurich', 'zuroff', 'zuylen', 'zvai', 'zvezda', 'zvi', 'zvulun', 'zweiter', 'zwick', 'zwicker', 'zwischenmenschlicher', 'zxycmwjdxj', 'zyuganov', 'àlvaro', 'ángel', 'árbenz', 'âš', 'ædonis', 'élan', 'élite', 'élysée', 'état', 'être', 'über', 'œa', 'œand', 'œapparently', 'œauthorizingâ', 'œbelow', 'œbut', 'œcan', 'œcapable', 'œemail', 'œexplosiveâ', 'œflashesâ', 'œfood', 'œgot', 'œhappyâ', 'œhillary', 'œhodgesnov5â', 'œhodgesâ', 'œi', 'œit', 'œleverageâ', 'œlife', 'œlikeâ', 'œlocking', 'œlook', 'œnervousâ', 'œno', 'œnothing', 'œobama', 'œon', 'œopened', 'œpeacetime', 'œpersons', 'œplease', 'œpotentially', 'œrubbishâ', 'œshared', 'œsmall', 'œsomething', 'œstop', 'œteasingâ', 'œthe', 'œthis', 'œtoday', 'œtotally', 'œtrust', 'œvery', 'œwant', 'œwe', 'œwhen', 'œwhoever', 'œwhy', 'śpodesta', 'śâ', 'ťfirst', 'ťlaw', 'ťnew', 'ťnon', 'ťpilgrim', 'ťsecond', 'ťthe', 'ťthird', 'ťtwo', 'ťwho', 'ťđ', 'νοεμβρίου', 'октября', 'эa', 'эin', 'эthe', 'яркий', 'אדוני', 'אוהלים', 'אוי', 'אזורים', 'אזרחים', 'אחד', 'אחת', 'אין', 'אלו', 'אם', 'אמצעי', 'אני', 'אסטרטגי', 'אספקת', 'ארבעת', 'ארצנו', 'אש', 'את', 'באופן', 'באזורים', 'באיתור', 'בדומה', 'בדרום', 'בהגדרת', 'בהם', 'בהנאה', 'בו', 'בחבילת', 'בחיילינו', 'בימיה', 'בכבוד', 'בכדי', 'בכוח', 'בכל', 'במבצע', 'במידה', 'בנימין', 'בעין', 'בעקבות', 'ברוב', 'גבול', 'גורלית', 'גוש', 'גרורות', 'גרורותיו', 'דבר', 'דע', 'האויב', 'האוייב', 'האוכלוסייה', 'האופנסיבה', 'האזורים', 'האזרחיים', 'האזרחית', 'האסטרטגי', 'האסטרטגיה', 'האסלאם', 'האש', 'הבא', 'הבאות', 'הבנוי', 'הגדרת', 'הגירה', 'ההפנמה', 'ההתנגדות', 'הוא', 'הזה', 'הזו', 'החוק', 'החיזבאללא', 'החמאס', 'החמס', 'החשמל', 'הטילים', 'היו', 'היסוד', 'היעד', 'הישראלי', 'הכוחות', 'הכרעה', 'הכשלים', 'הלוחמים', 'הלחימה', 'הללו', 'המבקש', 'המוסלמים', 'המוצעת', 'הממשלה', 'המנהרות', 'המעוניינים', 'המשימה', 'המשך', 'הן', 'הנכון', 'הנקודות', 'הערבי', 'הפסקת', 'הפעולות', 'הצהרת', 'הצירים', 'הקולטות', 'הקיצוני', 'הקרבות', 'הקשר', 'הרחק', 'הרצועה', 'הרקטות', 'השיגור', 'התומכת', 'ואוי', 'ואזורי', 'ואין', 'ובהערכה', 'ובנותיה', 'ובסמיכות', 'וברורה', 'והאחים', 'והחיזבאללה', 'והלוגיסטיקה', 'והמים', 'והמנהור', 'והנדרש', 'והעיר', 'והצבאיים', 'וחיסול', 'ויגיעו', 'ויוכח', 'וייוותרו', 'ויסודי', 'ויקבל', 'וישמיד', 'וכמובן', 'ולרחבה', 'ומכינות', 'ומכסות', 'ומסחר', 'ועד', 'ותומכיהם', 'זה', 'זהות', 'זוהי', 'חוככות', 'טופל', 'טמונים', 'יבין', 'יבתר', 'יגדיר', 'ידיהן', 'יוזמנו', 'יוחל', 'יופגזו', 'יוקמו', 'יזכו', 'יחוסלו', 'ייבנו', 'יידרש', 'יכולת', 'ימנע', 'יעדי', 'יעמוד', 'ירושלים', 'ירחיב', 'יש', 'ישראל', 'ישראליות', 'ישראלית', 'ישתלט', 'כאלה', 'כאן', 'כולה', 'כולו', 'כולל', 'כחולה', 'כי', 'כיבוש', 'כיצד', 'כך', 'כל', 'כלכלית', 'כערי', 'כעת', 'לא', 'לאור', 'לאורכה', 'לאזורים', 'לאיתור', 'לאמץ', 'לארצות', 'לבצע', 'להגר', 'להיגמר', 'להישאר', 'להפוך', 'להפנים', 'לו', 'לזו', 'לחטוף', 'לחמאס', 'לחסל', 'לחתום', 'לי', 'ליישוביהם', 'לים', 'לימינך', 'ליפו', 'לישראל', 'לך', 'לכל', 'לסבב', 'לעם', 'לפליטי', 'לרשע', 'לשוב', 'לשכנו', 'מאוד', 'מאוכלסים', 'מאיראן', 'מגורשי', 'מדינה', 'מדינות', 'מדינת', 'מה', 'מהר', 'מהשטח', 'מוחץ', 'מוסר', 'מוסרית', 'מזרח', 'מחנות', 'מטרה', 'מי', 'מיד', 'מינימום', 'מלשגר', 'ממה', 'מסתבר', 'מעטפת', 'מצפון', 'מקסימלי', 'משה', 'משמעותה', 'משמעותית', 'מתחילתו', 'מתקני', 'מתריע', 'נאמנות', 'נגד', 'נגמר', 'נדיבה', 'נדרש', 'נודע', 'ניצל', 'נכונה', 'נתניהו', 'סיוע', 'סיני', 'ספק', 'עד', 'עוינים', 'עומד', 'עזה', 'עידוד', 'עיר', 'על', 'עם', 'עמוק', 'עמים', 'עצמן', 'ערביי', 'עתה', 'פומבי', 'פורחת', 'פחות', 'פייגלין', 'פתוחים', 'צה', 'קורא', 'קטיף', 'קיני', 'קצין', 'קשר', 'ראויה', 'ראש', 'רבה', 'רלוונטיים', 'רק', 'שאוסלו', 'שהוגדר', 'שהיא', 'שהיו', 'שהמבצע', 'שוך', 'שולטים', 'שזו', 'שטחים', 'שינוי', 'שיתעקש', 'שכל', 'שכמוני', 'של', 'שלו', 'שנדרש', 'שני', 'שעת', 'שתי', 'תאמצנה', 'תוצאה', 'תחל', 'תיירות', 'תנותק', 'תעודת', 'תתרכז', 'أن', 'إجلاء', 'الأمر', 'الجرحى', 'الدولية', 'اللجنة', 'تحتاج']\n"
     ]
    }
   ],
   "source": [
    "#feature names of the tfidfVectorizer we implemented into the system\n",
    "print(tfidfVector.get_feature_names()[:-10])"
   ]
  },
  {
   "cell_type": "code",
   "execution_count": 73,
   "id": "corresponding-english",
   "metadata": {},
   "outputs": [
    {
     "output_type": "execute_result",
     "data": {
      "text/plain": [
       "LogisticRegression()"
      ]
     },
     "metadata": {},
     "execution_count": 73
    }
   ],
   "source": [
    "from sklearn.linear_model import LogisticRegression\n",
    "#Logistic Regression Classification- a technique for machine learning problems. Teachings system to classify new data into \n",
    "# two class values: i.e. for our project=FAKE or REAL\n",
    "\n",
    "#df = df.dropna()\n",
    "\n",
    "logregClassifier = LogisticRegression()\n",
    "logregClassifier.fit(tfidfVector_train, y_train)\n"
   ]
  },
  {
   "cell_type": "code",
   "execution_count": 61,
   "id": "wired-behavior",
   "metadata": {},
   "outputs": [
    {
     "output_type": "execute_result",
     "data": {
      "text/plain": [
       "0.9165915238954012"
      ]
     },
     "metadata": {},
     "execution_count": 61
    }
   ],
   "source": [
    "logregClassifier.score(tfidfVector_test, y_test)"
   ]
  },
  {
   "cell_type": "code",
   "execution_count": 74,
   "id": "settled-encoding",
   "metadata": {},
   "outputs": [],
   "source": [
    "#Pipelines are set up with the fit/transform/predict functionality, so that we can fit the whole pipeline to the training\n",
    "#data and transform to the test data without having to do it individually for everything you do\n",
    "\n",
    "#NB=Nominal Bore:\n",
    "pip = Pipeline([('tfidfVector',TfidfVectorizer(stop_words='english')),\n",
    "             ('nb', MultinomialNB())])"
   ]
  },
  {
   "cell_type": "code",
   "execution_count": 76,
   "id": "restricted-glasgow",
   "metadata": {},
   "outputs": [
    {
     "output_type": "execute_result",
     "data": {
      "text/plain": [
       "Pipeline(steps=[('tfidfVector', TfidfVectorizer(stop_words='english')),\n",
       "                ('nb', MultinomialNB())])"
      ]
     },
     "metadata": {},
     "execution_count": 76
    }
   ],
   "source": [
    "pip.fit(x_train, y_train)"
   ]
  },
  {
   "cell_type": "code",
   "execution_count": 46,
   "id": "decent-appraisal",
   "metadata": {},
   "outputs": [
    {
     "output_type": "stream",
     "name": "stdout",
     "text": [
      "Accuracy Score of Pipeline Implementation: 0.8214607754733995\n"
     ]
    }
   ],
   "source": [
    "score = pip.score(x_test,y_test)\n",
    "print('Accuracy Score of Pipeline Implementation:', score)"
   ]
  },
  {
   "cell_type": "code",
   "execution_count": 49,
   "id": "pretty-software",
   "metadata": {},
   "outputs": [
    {
     "output_type": "execute_result",
     "data": {
      "text/plain": [
       "array([[1056,   66],\n",
       "       [ 119,  977]], dtype=int64)"
      ]
     },
     "metadata": {},
     "execution_count": 49
    }
   ],
   "source": [
    "#Confusion Matrix- table used to show performance of a dataset within a system\n",
    "\n",
    "y_pred=logregClassifier.predict(tfidfVector_test)\n",
    "\n",
    "confusion_matrix(y_test,y_pred,labels=['FAKE','REAL'])\n",
    "\n",
    "#with the dataset we are using, the confusion matrix is helping us\n",
    "#to identify that the dataset contains 1056 true positives,\n",
    "#977 true negatives, 119 false positives, and 66 false negatives"
   ]
  },
  {
   "cell_type": "code",
   "execution_count": 53,
   "id": "every-windows",
   "metadata": {},
   "outputs": [
    {
     "output_type": "execute_result",
     "data": {
      "text/plain": [
       "Pipeline(steps=[('vector', TfidfVectorizer(max_df=0.7, stop_words='english')),\n",
       "                ('Logistic Regression', LogisticRegression(max_iter=50))])"
      ]
     },
     "metadata": {},
     "execution_count": 53
    }
   ],
   "source": [
    "applyClassifier = Pipeline([\n",
    "    ('vector', tfidfVector),\n",
    "    ('Logistic Regression', LogisticRegression(max_iter=50))])\n",
    "applyClassifier.fit(x_train, y_train)"
   ]
  },
  {
   "cell_type": "code",
   "execution_count": 57,
   "id": "moving-latter",
   "metadata": {},
   "outputs": [],
   "source": [
    "with open('detectionModel.pkl','wb') as handle:\n",
    "    pickle.dump(pip, handle, protocol=pickle.HIGHEST_PROTOCOL)"
   ]
  },
  {
   "cell_type": "code",
   "execution_count": 60,
   "id": "smart-samoa",
   "metadata": {
    "scrolled": true
   },
   "outputs": [
    {
     "output_type": "stream",
     "name": "stdout",
     "text": [
      "The given statement you entered is  REAL\n"
     ]
    }
   ],
   "source": [
    "var = input(\"Please enter text here: \")\n",
    "def fakeNewsDetection(var):\n",
    "    load_model = pickle.load(open('detectionModel.pkl','rb'))\n",
    "    prediction = load_model.predict([var])\n",
    "    \n",
    "    return(print(\"The given statement you entered is \", prediction[0]))\n",
    "    # return \"hi\"\n",
    "if __name__=='__main__':\n",
    "    fakeNewsDetection(var)\n"
   ]
  },
  {
   "cell_type": "code",
   "execution_count": null,
   "id": "micro-frame",
   "metadata": {},
   "outputs": [],
   "source": []
  }
 ],
 "metadata": {
  "kernelspec": {
   "name": "python394jvsc74a57bd039d4e638a04584bf268c48b57e9ad7a594d8a4a2f79f8f81840bbd5e35cbb1c2",
   "display_name": "Python 3.9.2 64-bit"
  },
  "language_info": {
   "codemirror_mode": {
    "name": "ipython",
    "version": 3
   },
   "file_extension": ".py",
   "mimetype": "text/x-python",
   "name": "python",
   "nbconvert_exporter": "python",
   "pygments_lexer": "ipython3",
   "version": "3.9.4"
  }
 },
 "nbformat": 4,
 "nbformat_minor": 5
}